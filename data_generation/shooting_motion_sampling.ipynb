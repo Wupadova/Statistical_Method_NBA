{
 "cells": [
  {
   "cell_type": "code",
   "execution_count": 456,
   "id": "72d3165a-663f-49b9-a3a3-941cf1eb4311",
   "metadata": {},
   "outputs": [],
   "source": [
    "import pandas as pd\n",
    "import numpy as np"
   ]
  },
  {
   "cell_type": "code",
   "execution_count": 457,
   "id": "92f921f4-8fcc-42ea-a6a9-a4da36402407",
   "metadata": {},
   "outputs": [],
   "source": [
    "df = pd.read_csv('path_detail.csv') #read the original dataset\n",
    "\n",
    "#create the player column by merging the fnm and lnm\n",
    "df['player'] = df['fnm'] + ' ' + df['lnm']\n",
    "df = df.drop(columns=['fnm', 'lnm', 'ddst']) #drop the first names and lastnames (just keep the player column)"
   ]
  },
  {
   "cell_type": "code",
   "execution_count": 458,
   "id": "4e572f23-6286-41ba-b87a-96b89592d8ff",
   "metadata": {},
   "outputs": [
    {
     "name": "stdout",
     "output_type": "stream",
     "text": [
      "(79776, 20)\n",
      "(72254, 20)\n"
     ]
    }
   ],
   "source": [
    "print(df.shape)\n",
    "df = df.dropna() #drop all the NAs rows\n",
    "print(df.shape)"
   ]
  },
  {
   "cell_type": "code",
   "execution_count": 459,
   "id": "4936c34f-012e-4765-9abe-f0bebb4e4498",
   "metadata": {},
   "outputs": [
    {
     "name": "stdout",
     "output_type": "stream",
     "text": [
      "589\n",
      "287\n"
     ]
    }
   ],
   "source": [
    "pps = [] #a list that contains the amount of frames of each shooting motion\n",
    "for element in df['pid'].unique():\n",
    "    subdf = df[df['pid'] == element]\n",
    "    pps.append(subdf.shape[0])\n",
    "print(max(pps))\n",
    "print(min(pps))\n",
    "\n",
    "#the player with less amount of frams in hes motion has 287"
   ]
  },
  {
   "cell_type": "code",
   "execution_count": 460,
   "id": "7608e1fe-4ea2-4728-9fd5-679bb2c76da1",
   "metadata": {},
   "outputs": [],
   "source": [
    "#do an undersample that cant have more than 287 steps \n",
    "df_new = pd.DataFrame(columns = df.columns)\n",
    "#for element in df['pid'].unique():\n",
    "#    subdf = df[df['pid'] == element]\n",
    "#    subdf = subdf.sample(n=15, random_state=1)\n",
    "#    subdf = subdf.sort_values(by=['t'])\n",
    "#    df_new = df_new.append(subdf)\n",
    "s = 200 #the resample\n",
    "\n",
    "for element in df['pid'].unique():\n",
    "    subdf = df[df['pid'] == element]\n",
    "    index_lst = []\n",
    "    for step in range (s+1):\n",
    "        \n",
    "        index_lst.append(step * int((subdf.shape[0] - 1)/s))\n",
    "    subdf = subdf.iloc[index_lst]\n",
    "    subdf = subdf.sort_values(by=['t'])\n",
    "    df_new = df_new.append(subdf)\n",
    "\n",
    "\n",
    "\n",
    "df_new = df_new.drop(columns=['t'])\n",
    "df = df_new"
   ]
  },
  {
   "cell_type": "code",
   "execution_count": 461,
   "id": "f8c210e6-2ac9-407f-80e7-4b2f3de7f6c7",
   "metadata": {},
   "outputs": [],
   "source": [
    "reorder_df = df_new[['pid','player','hght','rt']] #take the columns pid, player,hght and rt, and add them later to the new dataset\n",
    "df_new = df_new.drop(columns=['pid','player','hght','rt'])\n",
    "\n",
    "df_new_coor = df_new[['cx','cy','cz']]\n",
    "df_new_vel = df_new[['cvx','cvy','cvz']]\n",
    "df_new_acc = df_new[['cax','cay','caz']]\n",
    "df_v_a = df_new[['cv','ca']]"
   ]
  },
  {
   "cell_type": "code",
   "execution_count": 462,
   "id": "58b72120-cfbd-4e12-acab-ecdbfe43fe0f",
   "metadata": {},
   "outputs": [],
   "source": [
    "#create the empty final datasets by iterating over the sample amounts and creating the column names\n",
    "col_names = []\n",
    "col_names_coor = []\n",
    "col_names_vel = []\n",
    "col_names_acc = []\n",
    "col_names_va = []\n",
    "for i in range (s+1):\n",
    "    for name in list(df_new.columns):\n",
    "        col_names.append(name + str(i))\n",
    "        \n",
    "    for name1 in list(df_new_coor.columns):\n",
    "        col_names_coor.append(name1 + str(i))\n",
    "        \n",
    "    for name2 in list(df_new_vel.columns):\n",
    "        col_names_vel.append(name2 + str(i))\n",
    "        \n",
    "    for name3 in list(df_new_acc.columns):\n",
    "        col_names_acc.append(name3 + str(i))\n",
    "        \n",
    "    for name4 in list(df_v_a.columns):\n",
    "        col_names_va.append(name4 + str(i))\n",
    "        \n",
    "        \n",
    "final_df = pd.DataFrame(columns = col_names)    #one with all thevariables\n",
    "final_coor = pd.DataFrame(columns = col_names_coor)    #one only with the coordinates\n",
    "final_vel = pd.DataFrame(columns = col_names_vel)    #one only with the velocities\n",
    "final_acc = pd.DataFrame(columns = col_names_acc)    #one only with the accelerations\n",
    "final_va = pd.DataFrame(columns = col_names_va)    #one only with the absolut velocitie and acceleration"
   ]
  },
  {
   "cell_type": "code",
   "execution_count": 463,
   "id": "b7650eb5-a1e3-4659-a5c9-9aee4b4f8e4d",
   "metadata": {},
   "outputs": [],
   "source": [
    "#iterate over the new_dfs to flatten them for each pid and add it to the final dataframes as a new row\n",
    "\n",
    "for element in df['pid'].unique():\n",
    "    subdf = df[df['pid'] == element]\n",
    "    subdf = subdf[df_new.columns]\n",
    "    flatten_df = subdf.stack().values\n",
    "    final_df = final_df.append(pd.DataFrame(flatten_df.reshape(1,-1), columns=list(final_df)), ignore_index=True)\n",
    "    \n",
    "for element in df['pid'].unique():\n",
    "    subdf = df[df['pid'] == element]\n",
    "    subdf = subdf[df_new_coor.columns]\n",
    "    flatten_df = subdf.stack().values\n",
    "    final_coor = final_coor.append(pd.DataFrame(flatten_df.reshape(1,-1), columns=list(final_coor)), ignore_index=True)\n",
    "    \n",
    "for element in df['pid'].unique():\n",
    "    subdf = df[df['pid'] == element]\n",
    "    subdf = subdf[df_new_vel.columns]\n",
    "    flatten_df = subdf.stack().values\n",
    "    final_vel = final_vel.append(pd.DataFrame(flatten_df.reshape(1,-1), columns=list(final_vel)), ignore_index=True)\n",
    "    \n",
    "for element in df['pid'].unique():\n",
    "    subdf = df[df['pid'] == element]\n",
    "    subdf = subdf[df_new_acc.columns]\n",
    "    flatten_df = subdf.stack().values\n",
    "    final_acc = final_acc.append(pd.DataFrame(flatten_df.reshape(1,-1), columns=list(final_acc)), ignore_index=True)\n",
    "    \n",
    "for element in df['pid'].unique():\n",
    "    subdf = df[df['pid'] == element]\n",
    "    subdf = subdf[df_v_a.columns]\n",
    "    flatten_df = subdf.stack().values\n",
    "    final_va = final_va.append(pd.DataFrame(flatten_df.reshape(1,-1), columns=list(final_va)), ignore_index=True)\n",
    "    "
   ]
  },
  {
   "cell_type": "code",
   "execution_count": 464,
   "id": "87244427-fc82-40f8-854d-913371cfaef7",
   "metadata": {},
   "outputs": [],
   "source": [
    "\n",
    "final_df = final_df.reset_index()"
   ]
  },
  {
   "cell_type": "code",
   "execution_count": 466,
   "id": "d58c0540-95c6-42ef-86bb-2f08b6de2329",
   "metadata": {},
   "outputs": [],
   "source": [
    "#keep only one ot the hghts, pid and player name for player\n",
    "reorder_df = reorder_df.drop_duplicates(keep='first')\n",
    "reorder_df = reorder_df.reset_index()\n",
    "\n",
    "#and addit to the new dataframes\n",
    "final = pd.concat([reorder_df, final_df], axis=1)\n",
    "final_coor = pd.concat([reorder_df, final_coor], axis=1)\n",
    "fina_vel = pd.concat([reorder_df, final_vel], axis=1)\n",
    "final_acc = pd.concat([reorder_df, final_acc], axis=1)\n",
    "final_va = pd.concat([reorder_df, final_va], axis=1)"
   ]
  },
  {
   "cell_type": "code",
   "execution_count": 468,
   "id": "fc236599-086a-4500-ac28-c81c45973ebe",
   "metadata": {},
   "outputs": [],
   "source": [
    "#save them as CSVs \n",
    "final_coor.to_csv('final_coor.csv')\n",
    "fina_vel.to_csv('fina_vel.csv')\n",
    "final_acc.to_csv('final_acc.csv')\n",
    "final_va.to_csv('final_va.csv')"
   ]
  }
 ],
 "metadata": {
  "kernelspec": {
   "display_name": "Python 3 (ipykernel)",
   "language": "python",
   "name": "python3"
  },
  "language_info": {
   "codemirror_mode": {
    "name": "ipython",
    "version": 3
   },
   "file_extension": ".py",
   "mimetype": "text/x-python",
   "name": "python",
   "nbconvert_exporter": "python",
   "pygments_lexer": "ipython3",
   "version": "3.8.9"
  }
 },
 "nbformat": 4,
 "nbformat_minor": 5
}
